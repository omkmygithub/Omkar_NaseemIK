{
 "cells": [
  {
   "cell_type": "markdown",
   "id": "eeaf8e60",
   "metadata": {},
   "source": [
    "# Lending Club Loan Analysis - Case Study\n",
    "This case study notebook analyzes Lending Club’s loan data to uncover patterns, risk factors, and insights into loan default trends. By exploring various customer and loan attributes, the goal is to help the company make more informed and data-driven lending decisions, ultimately improving credit risk management.\n",
    "\n",
    "### Objectives:\n",
    "###### 1. Analyze Customer and Loan Attributes to Detect Default Trends\n",
    "Investigate how different customer demographics, loan features, and financial factors are linked to default rates. This involves examining variables like income, credit score, loan amount, and purpose of the loan to identify any trends or correlations with defaults.\n",
    "\n",
    "###### 2. Provide Actionable Insights to Minimize Credit Losses\n",
    "Based on the data analysis, offer practical recommendations for minimizing credit losses. These insights will guide the company in refining its lending strategies, optimizing credit assessments, and identifying higher-risk borrowers before approving loans.\n",
    "\n",
    "###### 3. Explore Key Variables Driving Loan Defaults Using EDA\n",
    "Conduct exploratory data analysis (EDA) to uncover the main factors contributing to loan defaults. By visualizing the data and testing various hypotheses, we aim to pinpoint which variables most strongly influence default rates and provide clarity on the underlying risk drivers."
   ]
  },
  {
   "cell_type": "code",
   "execution_count": 1,
   "id": "3dbea593",
   "metadata": {},
   "outputs": [],
   "source": [
    "# Import required libraries\n",
    "import pandas as pd\n",
    "import numpy as np\n",
    "import seaborn as sns\n",
    "import matplotlib.pyplot as plt\n",
    "sns.set_theme(style=\"whitegrid\")"
   ]
  },
  {
   "cell_type": "markdown",
   "id": "48cb57c4",
   "metadata": {},
   "source": [
    "## Reading File and Loading Data"
   ]
  },
  {
   "cell_type": "code",
   "execution_count": 2,
   "id": "c78cf189",
   "metadata": {},
   "outputs": [
    {
     "name": "stdout",
     "output_type": "stream",
     "text": [
      "Shape of the dataset: (39717, 111)\n",
      "<class 'pandas.core.frame.DataFrame'>\n",
      "RangeIndex: 39717 entries, 0 to 39716\n",
      "Columns: 111 entries, id to total_il_high_credit_limit\n",
      "dtypes: float64(74), int64(13), object(24)\n",
      "memory usage: 33.6+ MB\n",
      "None\n"
     ]
    }
   ],
   "source": [
    "# Load dataset\n",
    "file_path = 'Loan.csv'  # Opening Loans file from current path\n",
    "loan_data = pd.read_csv(file_path, low_memory=False)\n",
    "\n",
    "# Display basic information\n",
    "print(f\"Shape of the dataset: {loan_data.shape}\")\n",
    "print(loan_data.info())"
   ]
  },
  {
   "cell_type": "markdown",
   "id": "a582aff5",
   "metadata": {},
   "source": [
    "## Data Understanding"
   ]
  },
  {
   "cell_type": "code",
   "execution_count": 3,
   "id": "5e34e554",
   "metadata": {},
   "outputs": [
    {
     "data": {
      "text/html": [
       "<div>\n",
       "<style scoped>\n",
       "    .dataframe tbody tr th:only-of-type {\n",
       "        vertical-align: middle;\n",
       "    }\n",
       "\n",
       "    .dataframe tbody tr th {\n",
       "        vertical-align: top;\n",
       "    }\n",
       "\n",
       "    .dataframe thead th {\n",
       "        text-align: right;\n",
       "    }\n",
       "</style>\n",
       "<table border=\"1\" class=\"dataframe\">\n",
       "  <thead>\n",
       "    <tr style=\"text-align: right;\">\n",
       "      <th></th>\n",
       "      <th>id</th>\n",
       "      <th>member_id</th>\n",
       "      <th>loan_amnt</th>\n",
       "      <th>funded_amnt</th>\n",
       "      <th>funded_amnt_inv</th>\n",
       "      <th>term</th>\n",
       "      <th>int_rate</th>\n",
       "      <th>installment</th>\n",
       "      <th>grade</th>\n",
       "      <th>sub_grade</th>\n",
       "      <th>...</th>\n",
       "      <th>num_tl_90g_dpd_24m</th>\n",
       "      <th>num_tl_op_past_12m</th>\n",
       "      <th>pct_tl_nvr_dlq</th>\n",
       "      <th>percent_bc_gt_75</th>\n",
       "      <th>pub_rec_bankruptcies</th>\n",
       "      <th>tax_liens</th>\n",
       "      <th>tot_hi_cred_lim</th>\n",
       "      <th>total_bal_ex_mort</th>\n",
       "      <th>total_bc_limit</th>\n",
       "      <th>total_il_high_credit_limit</th>\n",
       "    </tr>\n",
       "  </thead>\n",
       "  <tbody>\n",
       "    <tr>\n",
       "      <th>0</th>\n",
       "      <td>1077501</td>\n",
       "      <td>1296599</td>\n",
       "      <td>5000</td>\n",
       "      <td>5000</td>\n",
       "      <td>4975.0</td>\n",
       "      <td>36 months</td>\n",
       "      <td>10.65%</td>\n",
       "      <td>162.87</td>\n",
       "      <td>B</td>\n",
       "      <td>B2</td>\n",
       "      <td>...</td>\n",
       "      <td>NaN</td>\n",
       "      <td>NaN</td>\n",
       "      <td>NaN</td>\n",
       "      <td>NaN</td>\n",
       "      <td>0.0</td>\n",
       "      <td>0.0</td>\n",
       "      <td>NaN</td>\n",
       "      <td>NaN</td>\n",
       "      <td>NaN</td>\n",
       "      <td>NaN</td>\n",
       "    </tr>\n",
       "    <tr>\n",
       "      <th>1</th>\n",
       "      <td>1077430</td>\n",
       "      <td>1314167</td>\n",
       "      <td>2500</td>\n",
       "      <td>2500</td>\n",
       "      <td>2500.0</td>\n",
       "      <td>60 months</td>\n",
       "      <td>15.27%</td>\n",
       "      <td>59.83</td>\n",
       "      <td>C</td>\n",
       "      <td>C4</td>\n",
       "      <td>...</td>\n",
       "      <td>NaN</td>\n",
       "      <td>NaN</td>\n",
       "      <td>NaN</td>\n",
       "      <td>NaN</td>\n",
       "      <td>0.0</td>\n",
       "      <td>0.0</td>\n",
       "      <td>NaN</td>\n",
       "      <td>NaN</td>\n",
       "      <td>NaN</td>\n",
       "      <td>NaN</td>\n",
       "    </tr>\n",
       "    <tr>\n",
       "      <th>2</th>\n",
       "      <td>1077175</td>\n",
       "      <td>1313524</td>\n",
       "      <td>2400</td>\n",
       "      <td>2400</td>\n",
       "      <td>2400.0</td>\n",
       "      <td>36 months</td>\n",
       "      <td>15.96%</td>\n",
       "      <td>84.33</td>\n",
       "      <td>C</td>\n",
       "      <td>C5</td>\n",
       "      <td>...</td>\n",
       "      <td>NaN</td>\n",
       "      <td>NaN</td>\n",
       "      <td>NaN</td>\n",
       "      <td>NaN</td>\n",
       "      <td>0.0</td>\n",
       "      <td>0.0</td>\n",
       "      <td>NaN</td>\n",
       "      <td>NaN</td>\n",
       "      <td>NaN</td>\n",
       "      <td>NaN</td>\n",
       "    </tr>\n",
       "    <tr>\n",
       "      <th>3</th>\n",
       "      <td>1076863</td>\n",
       "      <td>1277178</td>\n",
       "      <td>10000</td>\n",
       "      <td>10000</td>\n",
       "      <td>10000.0</td>\n",
       "      <td>36 months</td>\n",
       "      <td>13.49%</td>\n",
       "      <td>339.31</td>\n",
       "      <td>C</td>\n",
       "      <td>C1</td>\n",
       "      <td>...</td>\n",
       "      <td>NaN</td>\n",
       "      <td>NaN</td>\n",
       "      <td>NaN</td>\n",
       "      <td>NaN</td>\n",
       "      <td>0.0</td>\n",
       "      <td>0.0</td>\n",
       "      <td>NaN</td>\n",
       "      <td>NaN</td>\n",
       "      <td>NaN</td>\n",
       "      <td>NaN</td>\n",
       "    </tr>\n",
       "    <tr>\n",
       "      <th>4</th>\n",
       "      <td>1075358</td>\n",
       "      <td>1311748</td>\n",
       "      <td>3000</td>\n",
       "      <td>3000</td>\n",
       "      <td>3000.0</td>\n",
       "      <td>60 months</td>\n",
       "      <td>12.69%</td>\n",
       "      <td>67.79</td>\n",
       "      <td>B</td>\n",
       "      <td>B5</td>\n",
       "      <td>...</td>\n",
       "      <td>NaN</td>\n",
       "      <td>NaN</td>\n",
       "      <td>NaN</td>\n",
       "      <td>NaN</td>\n",
       "      <td>0.0</td>\n",
       "      <td>0.0</td>\n",
       "      <td>NaN</td>\n",
       "      <td>NaN</td>\n",
       "      <td>NaN</td>\n",
       "      <td>NaN</td>\n",
       "    </tr>\n",
       "  </tbody>\n",
       "</table>\n",
       "<p>5 rows × 111 columns</p>\n",
       "</div>"
      ],
      "text/plain": [
       "        id  member_id  loan_amnt  funded_amnt  funded_amnt_inv        term  \\\n",
       "0  1077501    1296599       5000         5000           4975.0   36 months   \n",
       "1  1077430    1314167       2500         2500           2500.0   60 months   \n",
       "2  1077175    1313524       2400         2400           2400.0   36 months   \n",
       "3  1076863    1277178      10000        10000          10000.0   36 months   \n",
       "4  1075358    1311748       3000         3000           3000.0   60 months   \n",
       "\n",
       "  int_rate  installment grade sub_grade  ... num_tl_90g_dpd_24m  \\\n",
       "0   10.65%       162.87     B        B2  ...                NaN   \n",
       "1   15.27%        59.83     C        C4  ...                NaN   \n",
       "2   15.96%        84.33     C        C5  ...                NaN   \n",
       "3   13.49%       339.31     C        C1  ...                NaN   \n",
       "4   12.69%        67.79     B        B5  ...                NaN   \n",
       "\n",
       "  num_tl_op_past_12m pct_tl_nvr_dlq  percent_bc_gt_75 pub_rec_bankruptcies  \\\n",
       "0                NaN            NaN               NaN                  0.0   \n",
       "1                NaN            NaN               NaN                  0.0   \n",
       "2                NaN            NaN               NaN                  0.0   \n",
       "3                NaN            NaN               NaN                  0.0   \n",
       "4                NaN            NaN               NaN                  0.0   \n",
       "\n",
       "  tax_liens tot_hi_cred_lim total_bal_ex_mort total_bc_limit  \\\n",
       "0       0.0             NaN               NaN            NaN   \n",
       "1       0.0             NaN               NaN            NaN   \n",
       "2       0.0             NaN               NaN            NaN   \n",
       "3       0.0             NaN               NaN            NaN   \n",
       "4       0.0             NaN               NaN            NaN   \n",
       "\n",
       "  total_il_high_credit_limit  \n",
       "0                        NaN  \n",
       "1                        NaN  \n",
       "2                        NaN  \n",
       "3                        NaN  \n",
       "4                        NaN  \n",
       "\n",
       "[5 rows x 111 columns]"
      ]
     },
     "execution_count": 3,
     "metadata": {},
     "output_type": "execute_result"
    }
   ],
   "source": [
    "loan_data.head()"
   ]
  },
  {
   "cell_type": "code",
   "execution_count": 4,
   "id": "3d5aa5a6",
   "metadata": {},
   "outputs": [
    {
     "data": {
      "text/plain": [
       "Index(['id', 'member_id', 'loan_amnt', 'funded_amnt', 'funded_amnt_inv',\n",
       "       'term', 'int_rate', 'installment', 'grade', 'sub_grade',\n",
       "       ...\n",
       "       'num_tl_90g_dpd_24m', 'num_tl_op_past_12m', 'pct_tl_nvr_dlq',\n",
       "       'percent_bc_gt_75', 'pub_rec_bankruptcies', 'tax_liens',\n",
       "       'tot_hi_cred_lim', 'total_bal_ex_mort', 'total_bc_limit',\n",
       "       'total_il_high_credit_limit'],\n",
       "      dtype='object', length=111)"
      ]
     },
     "execution_count": 4,
     "metadata": {},
     "output_type": "execute_result"
    }
   ],
   "source": [
    "# Looking at all the column names\n",
    "loan_data.columns"
   ]
  },
  {
   "cell_type": "markdown",
   "id": "9bd40345",
   "metadata": {},
   "source": [
    "## Data Cleaning\n",
    "\n",
    "Some columns have a large number of missing values, let's first fix the missing values and then check for other types of data quality problems."
   ]
  },
  {
   "cell_type": "code",
   "execution_count": 5,
   "id": "8d33fbe8",
   "metadata": {},
   "outputs": [
    {
     "data": {
      "text/plain": [
       "id                                0\n",
       "member_id                         0\n",
       "loan_amnt                         0\n",
       "funded_amnt                       0\n",
       "funded_amnt_inv                   0\n",
       "                              ...  \n",
       "tax_liens                        39\n",
       "tot_hi_cred_lim               39717\n",
       "total_bal_ex_mort             39717\n",
       "total_bc_limit                39717\n",
       "total_il_high_credit_limit    39717\n",
       "Length: 111, dtype: int64"
      ]
     },
     "execution_count": 5,
     "metadata": {},
     "output_type": "execute_result"
    }
   ],
   "source": [
    "# Summarising number of missing values in each column\n",
    "loan_data.isnull().sum()"
   ]
  },
  {
   "cell_type": "code",
   "execution_count": 6,
   "id": "ce5e6cb0",
   "metadata": {},
   "outputs": [
    {
     "data": {
      "text/plain": [
       "id                              0.0\n",
       "member_id                       0.0\n",
       "loan_amnt                       0.0\n",
       "funded_amnt                     0.0\n",
       "funded_amnt_inv                 0.0\n",
       "                              ...  \n",
       "tax_liens                       0.0\n",
       "tot_hi_cred_lim               100.0\n",
       "total_bal_ex_mort             100.0\n",
       "total_bc_limit                100.0\n",
       "total_il_high_credit_limit    100.0\n",
       "Length: 111, dtype: float64"
      ]
     },
     "execution_count": 6,
     "metadata": {},
     "output_type": "execute_result"
    }
   ],
   "source": [
    "# Percentage of missing values in each column\n",
    "round(loan_data.isnull().sum()/len(loan_data.index), 2)*100"
   ]
  },
  {
   "cell_type": "markdown",
   "id": "ea037eb8",
   "metadata": {},
   "source": [
    "We can see that many columns have 100% missing values, some have 65%, 33% etc. First, let's get rid of the columns having 100% missing values."
   ]
  },
  {
   "cell_type": "code",
   "execution_count": 7,
   "id": "1c6821e9",
   "metadata": {},
   "outputs": [
    {
     "name": "stdout",
     "output_type": "stream",
     "text": [
      "Index(['mths_since_last_record', 'next_pymnt_d', 'mths_since_last_major_derog',\n",
      "       'annual_inc_joint', 'dti_joint', 'verification_status_joint',\n",
      "       'tot_coll_amt', 'tot_cur_bal', 'open_acc_6m', 'open_il_6m',\n",
      "       'open_il_12m', 'open_il_24m', 'mths_since_rcnt_il', 'total_bal_il',\n",
      "       'il_util', 'open_rv_12m', 'open_rv_24m', 'max_bal_bc', 'all_util',\n",
      "       'total_rev_hi_lim', 'inq_fi', 'total_cu_tl', 'inq_last_12m',\n",
      "       'acc_open_past_24mths', 'avg_cur_bal', 'bc_open_to_buy', 'bc_util',\n",
      "       'mo_sin_old_il_acct', 'mo_sin_old_rev_tl_op', 'mo_sin_rcnt_rev_tl_op',\n",
      "       'mo_sin_rcnt_tl', 'mort_acc', 'mths_since_recent_bc',\n",
      "       'mths_since_recent_bc_dlq', 'mths_since_recent_inq',\n",
      "       'mths_since_recent_revol_delinq', 'num_accts_ever_120_pd',\n",
      "       'num_actv_bc_tl', 'num_actv_rev_tl', 'num_bc_sats', 'num_bc_tl',\n",
      "       'num_il_tl', 'num_op_rev_tl', 'num_rev_accts', 'num_rev_tl_bal_gt_0',\n",
      "       'num_sats', 'num_tl_120dpd_2m', 'num_tl_30dpd', 'num_tl_90g_dpd_24m',\n",
      "       'num_tl_op_past_12m', 'pct_tl_nvr_dlq', 'percent_bc_gt_75',\n",
      "       'tot_hi_cred_lim', 'total_bal_ex_mort', 'total_bc_limit',\n",
      "       'total_il_high_credit_limit'],\n",
      "      dtype='object')\n"
     ]
    }
   ],
   "source": [
    "# Removing the columns having more than 90% missing values\n",
    "missing_columns = loan_data.columns[100*(loan_data.isnull().sum()/len(loan_data.index)) > 90]\n",
    "print(missing_columns)"
   ]
  },
  {
   "cell_type": "code",
   "execution_count": 8,
   "id": "146ef276",
   "metadata": {},
   "outputs": [
    {
     "name": "stdout",
     "output_type": "stream",
     "text": [
      "(39717, 55)\n"
     ]
    }
   ],
   "source": [
    "loan_data = loan_data.drop(missing_columns, axis=1)\n",
    "print(loan_data.shape)"
   ]
  },
  {
   "cell_type": "code",
   "execution_count": 9,
   "id": "a59cb1ee",
   "metadata": {},
   "outputs": [
    {
     "data": {
      "text/plain": [
       "id                             0.000000\n",
       "member_id                      0.000000\n",
       "loan_amnt                      0.000000\n",
       "funded_amnt                    0.000000\n",
       "funded_amnt_inv                0.000000\n",
       "term                           0.000000\n",
       "int_rate                       0.000000\n",
       "installment                    0.000000\n",
       "grade                          0.000000\n",
       "sub_grade                      0.000000\n",
       "emp_title                      6.191303\n",
       "emp_length                     2.706650\n",
       "home_ownership                 0.000000\n",
       "annual_inc                     0.000000\n",
       "verification_status            0.000000\n",
       "issue_d                        0.000000\n",
       "loan_status                    0.000000\n",
       "pymnt_plan                     0.000000\n",
       "url                            0.000000\n",
       "desc                          32.580507\n",
       "purpose                        0.000000\n",
       "title                          0.027696\n",
       "zip_code                       0.000000\n",
       "addr_state                     0.000000\n",
       "dti                            0.000000\n",
       "delinq_2yrs                    0.000000\n",
       "earliest_cr_line               0.000000\n",
       "inq_last_6mths                 0.000000\n",
       "mths_since_last_delinq        64.662487\n",
       "open_acc                       0.000000\n",
       "pub_rec                        0.000000\n",
       "revol_bal                      0.000000\n",
       "revol_util                     0.125891\n",
       "total_acc                      0.000000\n",
       "initial_list_status            0.000000\n",
       "out_prncp                      0.000000\n",
       "out_prncp_inv                  0.000000\n",
       "total_pymnt                    0.000000\n",
       "total_pymnt_inv                0.000000\n",
       "total_rec_prncp                0.000000\n",
       "total_rec_int                  0.000000\n",
       "total_rec_late_fee             0.000000\n",
       "recoveries                     0.000000\n",
       "collection_recovery_fee        0.000000\n",
       "last_pymnt_d                   0.178765\n",
       "last_pymnt_amnt                0.000000\n",
       "last_credit_pull_d             0.005036\n",
       "collections_12_mths_ex_med     0.140998\n",
       "policy_code                    0.000000\n",
       "application_type               0.000000\n",
       "acc_now_delinq                 0.000000\n",
       "chargeoff_within_12_mths       0.140998\n",
       "delinq_amnt                    0.000000\n",
       "pub_rec_bankruptcies           1.754916\n",
       "tax_liens                      0.098195\n",
       "dtype: float64"
      ]
     },
     "execution_count": 9,
     "metadata": {},
     "output_type": "execute_result"
    }
   ],
   "source": [
    "# Summarise number of missing values again\n",
    "100*(loan_data.isnull().sum()/len(loan_data.index))"
   ]
  },
  {
   "cell_type": "code",
   "execution_count": 10,
   "id": "6f639fa3",
   "metadata": {},
   "outputs": [
    {
     "data": {
      "text/html": [
       "<div>\n",
       "<style scoped>\n",
       "    .dataframe tbody tr th:only-of-type {\n",
       "        vertical-align: middle;\n",
       "    }\n",
       "\n",
       "    .dataframe tbody tr th {\n",
       "        vertical-align: top;\n",
       "    }\n",
       "\n",
       "    .dataframe thead th {\n",
       "        text-align: right;\n",
       "    }\n",
       "</style>\n",
       "<table border=\"1\" class=\"dataframe\">\n",
       "  <thead>\n",
       "    <tr style=\"text-align: right;\">\n",
       "      <th></th>\n",
       "      <th>desc</th>\n",
       "      <th>mths_since_last_delinq</th>\n",
       "    </tr>\n",
       "  </thead>\n",
       "  <tbody>\n",
       "    <tr>\n",
       "      <th>0</th>\n",
       "      <td>Borrower added on 12/22/11 &gt; I need to upgra...</td>\n",
       "      <td>NaN</td>\n",
       "    </tr>\n",
       "    <tr>\n",
       "      <th>1</th>\n",
       "      <td>Borrower added on 12/22/11 &gt; I plan to use t...</td>\n",
       "      <td>NaN</td>\n",
       "    </tr>\n",
       "    <tr>\n",
       "      <th>2</th>\n",
       "      <td>NaN</td>\n",
       "      <td>NaN</td>\n",
       "    </tr>\n",
       "    <tr>\n",
       "      <th>3</th>\n",
       "      <td>Borrower added on 12/21/11 &gt; to pay for prop...</td>\n",
       "      <td>35.0</td>\n",
       "    </tr>\n",
       "    <tr>\n",
       "      <th>4</th>\n",
       "      <td>Borrower added on 12/21/11 &gt; I plan on combi...</td>\n",
       "      <td>38.0</td>\n",
       "    </tr>\n",
       "  </tbody>\n",
       "</table>\n",
       "</div>"
      ],
      "text/plain": [
       "                                                desc  mths_since_last_delinq\n",
       "0    Borrower added on 12/22/11 > I need to upgra...                     NaN\n",
       "1    Borrower added on 12/22/11 > I plan to use t...                     NaN\n",
       "2                                                NaN                     NaN\n",
       "3    Borrower added on 12/21/11 > to pay for prop...                    35.0\n",
       "4    Borrower added on 12/21/11 > I plan on combi...                    38.0"
      ]
     },
     "execution_count": 10,
     "metadata": {},
     "output_type": "execute_result"
    }
   ],
   "source": [
    "# There are now 2 columns having approx 32 and 64% missing values - \n",
    "# Description and months since last delinquent (By referring data dictionary)\n",
    "\n",
    "# Looking at a few entries in the columns\n",
    "loan_data.loc[:, ['desc', 'mths_since_last_delinq']].head()"
   ]
  },
  {
   "cell_type": "markdown",
   "id": "9f27ccc4",
   "metadata": {},
   "source": [
    "Thus let's drop the two columns."
   ]
  },
  {
   "cell_type": "code",
   "execution_count": 11,
   "id": "5c1c7c32",
   "metadata": {},
   "outputs": [],
   "source": [
    "# Dropping the two columns\n",
    "loan_data = loan_data.drop(['desc', 'mths_since_last_delinq'], axis=1)"
   ]
  },
  {
   "cell_type": "code",
   "execution_count": 12,
   "id": "71c54621",
   "metadata": {},
   "outputs": [
    {
     "data": {
      "text/plain": [
       "id                            0.000000\n",
       "member_id                     0.000000\n",
       "loan_amnt                     0.000000\n",
       "funded_amnt                   0.000000\n",
       "funded_amnt_inv               0.000000\n",
       "term                          0.000000\n",
       "int_rate                      0.000000\n",
       "installment                   0.000000\n",
       "grade                         0.000000\n",
       "sub_grade                     0.000000\n",
       "emp_title                     6.191303\n",
       "emp_length                    2.706650\n",
       "home_ownership                0.000000\n",
       "annual_inc                    0.000000\n",
       "verification_status           0.000000\n",
       "issue_d                       0.000000\n",
       "loan_status                   0.000000\n",
       "pymnt_plan                    0.000000\n",
       "url                           0.000000\n",
       "purpose                       0.000000\n",
       "title                         0.027696\n",
       "zip_code                      0.000000\n",
       "addr_state                    0.000000\n",
       "dti                           0.000000\n",
       "delinq_2yrs                   0.000000\n",
       "earliest_cr_line              0.000000\n",
       "inq_last_6mths                0.000000\n",
       "open_acc                      0.000000\n",
       "pub_rec                       0.000000\n",
       "revol_bal                     0.000000\n",
       "revol_util                    0.125891\n",
       "total_acc                     0.000000\n",
       "initial_list_status           0.000000\n",
       "out_prncp                     0.000000\n",
       "out_prncp_inv                 0.000000\n",
       "total_pymnt                   0.000000\n",
       "total_pymnt_inv               0.000000\n",
       "total_rec_prncp               0.000000\n",
       "total_rec_int                 0.000000\n",
       "total_rec_late_fee            0.000000\n",
       "recoveries                    0.000000\n",
       "collection_recovery_fee       0.000000\n",
       "last_pymnt_d                  0.178765\n",
       "last_pymnt_amnt               0.000000\n",
       "last_credit_pull_d            0.005036\n",
       "collections_12_mths_ex_med    0.140998\n",
       "policy_code                   0.000000\n",
       "application_type              0.000000\n",
       "acc_now_delinq                0.000000\n",
       "chargeoff_within_12_mths      0.140998\n",
       "delinq_amnt                   0.000000\n",
       "pub_rec_bankruptcies          1.754916\n",
       "tax_liens                     0.098195\n",
       "dtype: float64"
      ]
     },
     "execution_count": 12,
     "metadata": {},
     "output_type": "execute_result"
    }
   ],
   "source": [
    "# Summarise number of missing values again\n",
    "100*(loan_data.isnull().sum()/len(loan_data.index))"
   ]
  },
  {
   "cell_type": "markdown",
   "id": "5a39b102",
   "metadata": {},
   "source": [
    "Let's check whether some rows have a large number of missing values."
   ]
  },
  {
   "cell_type": "code",
   "execution_count": 13,
   "id": "8025997d",
   "metadata": {},
   "outputs": [
    {
     "data": {
      "text/plain": [
       "0        1\n",
       "1        0\n",
       "2        1\n",
       "3        0\n",
       "4        0\n",
       "        ..\n",
       "39712    4\n",
       "39713    4\n",
       "39714    5\n",
       "39715    5\n",
       "39716    4\n",
       "Length: 39717, dtype: int64"
      ]
     },
     "execution_count": 13,
     "metadata": {},
     "output_type": "execute_result"
    }
   ],
   "source": [
    "# Missing values in rows\n",
    "loan_data.isnull().sum(axis=1)"
   ]
  },
  {
   "cell_type": "markdown",
   "id": "82806ed3",
   "metadata": {},
   "source": [
    "Let's check whether some rows have a large number of missing values."
   ]
  },
  {
   "cell_type": "code",
   "execution_count": 14,
   "id": "9e8f52d0",
   "metadata": {},
   "outputs": [
    {
     "data": {
      "text/plain": [
       "0        1\n",
       "1        0\n",
       "2        1\n",
       "3        0\n",
       "4        0\n",
       "        ..\n",
       "39712    4\n",
       "39713    4\n",
       "39714    5\n",
       "39715    5\n",
       "39716    4\n",
       "Length: 39717, dtype: int64"
      ]
     },
     "execution_count": 14,
     "metadata": {},
     "output_type": "execute_result"
    }
   ],
   "source": [
    "# Missing values in rows\n",
    "loan_data.isnull().sum(axis=1)"
   ]
  },
  {
   "cell_type": "code",
   "execution_count": 15,
   "id": "6a24a77e",
   "metadata": {},
   "outputs": [
    {
     "data": {
      "text/plain": [
       "0"
      ]
     },
     "execution_count": 15,
     "metadata": {},
     "output_type": "execute_result"
    }
   ],
   "source": [
    "# Checking whether some rows have more than 5 missing values\n",
    "len(loan_data[loan_data.isnull().sum(axis=1) > 5].index)"
   ]
  },
  {
   "cell_type": "markdown",
   "id": "9d420026",
   "metadata": {},
   "source": [
    "The data looks clean by and large. Let's also check whether all columns are in the correct format."
   ]
  },
  {
   "cell_type": "code",
   "execution_count": 16,
   "id": "effa5be8",
   "metadata": {},
   "outputs": [
    {
     "name": "stdout",
     "output_type": "stream",
     "text": [
      "<class 'pandas.core.frame.DataFrame'>\n",
      "RangeIndex: 39717 entries, 0 to 39716\n",
      "Data columns (total 53 columns):\n",
      " #   Column                      Non-Null Count  Dtype  \n",
      "---  ------                      --------------  -----  \n",
      " 0   id                          39717 non-null  int64  \n",
      " 1   member_id                   39717 non-null  int64  \n",
      " 2   loan_amnt                   39717 non-null  int64  \n",
      " 3   funded_amnt                 39717 non-null  int64  \n",
      " 4   funded_amnt_inv             39717 non-null  float64\n",
      " 5   term                        39717 non-null  object \n",
      " 6   int_rate                    39717 non-null  object \n",
      " 7   installment                 39717 non-null  float64\n",
      " 8   grade                       39717 non-null  object \n",
      " 9   sub_grade                   39717 non-null  object \n",
      " 10  emp_title                   37258 non-null  object \n",
      " 11  emp_length                  38642 non-null  object \n",
      " 12  home_ownership              39717 non-null  object \n",
      " 13  annual_inc                  39717 non-null  float64\n",
      " 14  verification_status         39717 non-null  object \n",
      " 15  issue_d                     39717 non-null  object \n",
      " 16  loan_status                 39717 non-null  object \n",
      " 17  pymnt_plan                  39717 non-null  object \n",
      " 18  url                         39717 non-null  object \n",
      " 19  purpose                     39717 non-null  object \n",
      " 20  title                       39706 non-null  object \n",
      " 21  zip_code                    39717 non-null  object \n",
      " 22  addr_state                  39717 non-null  object \n",
      " 23  dti                         39717 non-null  float64\n",
      " 24  delinq_2yrs                 39717 non-null  int64  \n",
      " 25  earliest_cr_line            39717 non-null  object \n",
      " 26  inq_last_6mths              39717 non-null  int64  \n",
      " 27  open_acc                    39717 non-null  int64  \n",
      " 28  pub_rec                     39717 non-null  int64  \n",
      " 29  revol_bal                   39717 non-null  int64  \n",
      " 30  revol_util                  39667 non-null  object \n",
      " 31  total_acc                   39717 non-null  int64  \n",
      " 32  initial_list_status         39717 non-null  object \n",
      " 33  out_prncp                   39717 non-null  float64\n",
      " 34  out_prncp_inv               39717 non-null  float64\n",
      " 35  total_pymnt                 39717 non-null  float64\n",
      " 36  total_pymnt_inv             39717 non-null  float64\n",
      " 37  total_rec_prncp             39717 non-null  float64\n",
      " 38  total_rec_int               39717 non-null  float64\n",
      " 39  total_rec_late_fee          39717 non-null  float64\n",
      " 40  recoveries                  39717 non-null  float64\n",
      " 41  collection_recovery_fee     39717 non-null  float64\n",
      " 42  last_pymnt_d                39646 non-null  object \n",
      " 43  last_pymnt_amnt             39717 non-null  float64\n",
      " 44  last_credit_pull_d          39715 non-null  object \n",
      " 45  collections_12_mths_ex_med  39661 non-null  float64\n",
      " 46  policy_code                 39717 non-null  int64  \n",
      " 47  application_type            39717 non-null  object \n",
      " 48  acc_now_delinq              39717 non-null  int64  \n",
      " 49  chargeoff_within_12_mths    39661 non-null  float64\n",
      " 50  delinq_amnt                 39717 non-null  int64  \n",
      " 51  pub_rec_bankruptcies        39020 non-null  float64\n",
      " 52  tax_liens                   39678 non-null  float64\n",
      "dtypes: float64(18), int64(13), object(22)\n",
      "memory usage: 16.1+ MB\n"
     ]
    }
   ],
   "source": [
    "loan_data.info()"
   ]
  },
  {
   "cell_type": "markdown",
   "id": "bc2aed76",
   "metadata": {},
   "source": [
    "## Exploratory Data Analysis"
   ]
  },
  {
   "cell_type": "code",
   "execution_count": 17,
   "id": "ed181b88",
   "metadata": {},
   "outputs": [
    {
     "data": {
      "image/png": "[encoded data removed]",
      "text/plain": [
       "<Figure size 800x600 with 1 Axes>"
      ]
     },
     "metadata": {},
     "output_type": "display_data"
    }
   ],
   "source": [
    "# Loan status overview\n",
    "loan_data['loan_status'] = loan_data['loan_status'].str.strip().str.lower()\n",
    "loan_counts = loan_data['loan_status'].value_counts()\n",
    "\n",
    "# Visualize loan status distribution\n",
    "plt.figure(figsize=(8, 6))\n",
    "sns.barplot(x=loan_counts.index, y=loan_counts.values, palette='viridis')\n",
    "plt.title('Loan Status Distribution', fontsize=16, color=\"Blue\")\n",
    "plt.xlabel('Loan Status', fontsize=14, color=\"DarkGreen\")\n",
    "plt.ylabel('Count', fontsize=14, color=\"DarkGreen\")\n",
    "plt.xticks(rotation=45)\n",
    "plt.show()"
   ]
  },
  {
   "cell_type": "markdown",
   "id": "e5d4c389",
   "metadata": {},
   "source": [
    "### Key Variables Driving Defaults"
   ]
  },
  {
   "cell_type": "code",
   "execution_count": 18,
   "id": "1467b3b7",
   "metadata": {},
   "outputs": [
    {
     "data": {
      "image/png": "[encoded data removed]",
      "text/plain": [
       "<Figure size 800x600 with 1 Axes>"
      ]
     },
     "metadata": {},
     "output_type": "display_data"
    }
   ],
   "source": [
    "# Analyze loan amount vs. loan status\n",
    "plt.figure(figsize=(8, 6))\n",
    "sns.boxplot(data=loan_data, x='loan_status', y='loan_amnt', palette='coolwarm')\n",
    "plt.title('Loan Amount by Loan Status', fontsize=16, color=\"Blue\")\n",
    "plt.xlabel('Loan Status', fontsize=14, color=\"DarkGreen\")\n",
    "plt.ylabel('Loan Amount', fontsize=14, color=\"DarkGreen\")\n",
    "plt.xticks(rotation=45)\n",
    "plt.show()"
   ]
  },
  {
   "cell_type": "code",
   "execution_count": 19,
   "id": "249ded47",
   "metadata": {},
   "outputs": [
    {
     "data": {
      "image/png": "[encoded data removed]",
      "text/plain": [
       "<Figure size 800x600 with 1 Axes>"
      ]
     },
     "metadata": {},
     "output_type": "display_data"
    }
   ],
   "source": [
    "# Ensuring interest rate is a numeric column\n",
    "# Strip '%' and convert to float\n",
    "loan_data['int_rate'] = loan_data['int_rate'].str.replace('%', '').astype(float)\n",
    "\n",
    "# Clean the loan_status column\n",
    "loan_data['loan_status'] = loan_data['loan_status'].str.strip().str.lower()\n",
    "\n",
    "# Check for any null values and handle them\n",
    "loan_data = loan_data.dropna(subset=['int_rate', 'loan_status'])\n",
    "\n",
    "# Boxplot for interest rates by loan status\n",
    "plt.figure(figsize=(8, 6))\n",
    "sns.boxplot(data=loan_data, x='loan_status', y='int_rate', palette='Set2')\n",
    "plt.title('Interest Rate by Loan Status', fontsize=16, color=\"Blue\")\n",
    "plt.xlabel('Loan Status', fontsize=14, color=\"DarkGreen\")\n",
    "plt.ylabel('Interest Rate (%)', fontsize=14, color=\"DarkGreen\")\n",
    "plt.xticks(rotation=45)\n",
    "plt.show()"
   ]
  },
  {
   "cell_type": "code",
   "execution_count": 20,
   "id": "e86655c6",
   "metadata": {
    "scrolled": true
   },
   "outputs": [
    {
     "data": {
      "image/png": "[encoded data removed]",
      "text/plain": [
       "<Figure size 1000x600 with 1 Axes>"
      ]
     },
     "metadata": {},
     "output_type": "display_data"
    }
   ],
   "source": [
    "# Loan Purpose Distribution\n",
    "plt.figure(figsize=(10, 6))\n",
    "sns.countplot(data=loan_data, y='purpose', order=loan_data['purpose'].value_counts().index, palette='muted')\n",
    "plt.title('Loan Purpose Distribution', fontsize=16, color=\"Blue\")\n",
    "plt.xlabel('Count', fontsize=14, color=\"DarkGreen\")\n",
    "plt.ylabel('Purpose', fontsize=14, color=\"DarkGreen\")\n",
    "plt.show()"
   ]
  },
  {
   "cell_type": "markdown",
   "id": "40265cd1",
   "metadata": {},
   "source": [
    "###### ************ End of Analysis ************"
   ]
  },
  {
   "cell_type": "markdown",
   "id": "36066598",
   "metadata": {},
   "source": [
    "## Key Observations and Business Takeaways\n",
    "\n",
    "##### 1. Impact of Loan Amount on Defaults:\n",
    "Larger loan amounts tend to be associated with a higher risk of defaults. This finding suggests that it may be worthwhile for Lending Club to introduce more stringent limits or thorough evaluations for loans with higher values, enabling more effective management of potential losses.\n",
    "\n",
    "##### 2. Interest Rates and Their Impact on Defaults:\n",
    "Loans with higher interest rates are more frequently linked to defaults, indicating that these borrowers often present higher risk. As a result, Lending Club may need to reassess its pricing strategy and refine its risk assessment models to better account for the risk profiles of these borrowers.\n",
    "\n",
    "##### 3. Loan Purpose and Default Rates:\n",
    "A notable percentage of defaults occur among loans for \"debt consolidation.\" To address this, it could be beneficial for Lending Club to diversify its loan portfolio and introduce stricter eligibility criteria for borrowers seeking debt consolidation loans, reducing exposure to defaults in this particular category.\n",
    "\n",
    "##### 4. Income Levels and Default Patterns:\n",
    "Finally, borrowers with annual incomes below $50,000 exhibit higher default rates. This suggests that lower-income borrowers may face greater challenges in repaying loans. To mitigate this risk, Lending Club could enhance its credit evaluations or adjust its lending criteria for individuals in this income group."
   ]
  }
 ],
 "metadata": {
  "kernelspec": {
   "display_name": "Python 3 (ipykernel)",
   "language": "python",
   "name": "python3"
  },
  "language_info": {
   "codemirror_mode": {
    "name": "ipython",
    "version": 3
   },
   "file_extension": ".py",
   "mimetype": "text/x-python",
   "name": "python",
   "nbconvert_exporter": "python",
   "pygments_lexer": "ipython3",
   "version": "3.9.13"
  }
 },
 "nbformat": 4,
 "nbformat_minor": 5
}
